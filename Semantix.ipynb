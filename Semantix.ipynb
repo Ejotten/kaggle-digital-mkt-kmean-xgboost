{
 "cells": [
  {
   "cell_type": "markdown",
   "id": "b04cea05",
   "metadata": {},
   "source": [
    "# Business Analysis: CRISP-DM Methodology\n",
    "* Data Source\n",
    "This dataset was downloaded from Kaggle: https://www.kaggle.com/datasets/rabieelkharoua/predict-conversion-in-digital-marketing-dataset/data\n",
    "\n",
    "## Overview\n",
    "> This dataset provides a comprehensive view of customer interactions with digital marketing campaigns. It includes demographic data, marketing-specific metrics, customer engagement indicators, and historical purchase data, making it suitable for predictive modeling and analytics in the digital marketing domain.\n",
    "\n",
    "## Objective\n",
    "We aim to utilize this dataset to uncover patterns within the customer base that can inform decision-making for digital marketing budget allocation. Additionally, we will develop predictive models to determine the likelihood of a customer purchasing a product based on their interaction history and demographic information.\n",
    "\n",
    "## Goals\n",
    "1. Identify Key Patterns using K-means:\n",
    "\n",
    " - Analyze the dataset to identify significant patterns and trends in customer interactions and behaviors to see if we have any natural separation.\n",
    " - Understand which demographic and engagement metrics are most indicative of conversion success.\n",
    " \n",
    "2. Predictive Modeling using XGBoost:\n",
    "\n",
    " - Develop machine learning models to predict whether a customer is likely to purchase a product.\n",
    " - Use the models to segment customers based on their likelihood to convert, enabling targeted marketing strategies.\n",
    " \n",
    "3. Optimize Budget Allocation:\n",
    "\n",
    "Utilize the insights gained from pattern recognition and predictive modeling to optimize the allocation of the digital marketing budget.\n",
    "Focus resources on high-potential customer segments to maximize return on investment (ROI).\n"
   ]
  },
  {
   "cell_type": "markdown",
   "id": "144c4f6a",
   "metadata": {},
   "source": [
    "## Features\n",
    "\n",
    "|Variable              |Description          | \n",
    "|------------------------|:-------------------| \n",
    "|CustomerID          | Unique identifier for each customer| \n",
    "|Age | Age of the customer | \n",
    "|Gender           | Gender of the customer (Male/Female)  | \n",
    "|Income  | Annual income of the customer in USD  | \n",
    "|CampaignChannel          | The channel through which the marketing campaign is delivered (Email, Social Media, SEO, PPC, Referral) | \n",
    "|CampaignType| Type of the marketing campaign (Awareness, Consideration, Conversion, Retention).|\n",
    "|AdSpend| Amount spent on the marketing campaign in USD.|\n",
    "|ClickThroughRate| Rate at which customers click on the marketing content.|\n",
    "|ConversionRate| Rate at which clicks convert to desired actions (e.g., purchases).|\n",
    "|AdvertisingPlatform| Confidential.|\n",
    "|AdvertisingTool| Confidential.|\n",
    "|WebsiteVisits| Number of visits to the website.|\n",
    "|PagesPerVisit| Average number of pages visited per session.|\n",
    "|TimeOnSite| Average time spent on the website per visit (in minutes).|\n",
    "|SocialShares| Number of times the marketing content was shared on social media.|\n",
    "|EmailOpens| Number of times marketing emails were opened.|\n",
    "|EmailClicks| Number of times links in marketing emails were clicked.|\n",
    "|PreviousPurchases| Number of previous purchases made by the customer.|\n",
    "|LoyaltyPoints| Number of loyalty points accumulated by the customer.|\n",
    "|--------------------Target Variable----------------|\n",
    "|Conversion| Binary variable indicating whether the customer converted (1) or not (0).|"
   ]
  },
  {
   "cell_type": "markdown",
   "id": "52c0b016",
   "metadata": {},
   "source": [
    "## Packages needed"
   ]
  },
  {
   "cell_type": "code",
   "execution_count": null,
   "id": "f76c76ae",
   "metadata": {},
   "outputs": [],
   "source": [
    "import pandas as pd\n",
    "import matplotlib.pyplot as plt\n",
    "import numpy as np\n",
    "import seaborn as sns\n",
    "\n",
    "\n",
    "from sklearn.model_selection import train_test_split\n",
    "from sklearn.preprocessing import StandardScaler, OneHotEncoder\n",
    "from sklearn.impute import SimpleImputer\n",
    "from sklearn.compose import ColumnTransformer\n",
    "from sklearn.pipeline import Pipeline\n",
    "from sklearn.cluster import KMeans\n",
    "from sklearn.metrics import silhouette_score\n",
    "from sklearn.decomposition import PCA\n",
    "import xgboost as xgb\n",
    "from sklearn.metrics import accuracy_score, classification_report, confusion_matrix\n",
    "from sklearn.metrics import f1_score\n",
    "\n",
    "from collections import Counter\n",
    "import warnings\n",
    "warnings.filterwarnings(\"ignore\")"
   ]
  },
  {
   "cell_type": "markdown",
   "id": "6cfb9fbc",
   "metadata": {},
   "source": [
    "## Loading the data"
   ]
  },
  {
   "cell_type": "code",
   "execution_count": null,
   "id": "311d804a",
   "metadata": {},
   "outputs": [],
   "source": [
    "df = pd.read_csv('./digital_marketing_campaign_dataset.csv')"
   ]
  },
  {
   "cell_type": "code",
   "execution_count": null,
   "id": "815a01be",
   "metadata": {},
   "outputs": [],
   "source": [
    "df.head()"
   ]
  },
  {
   "cell_type": "markdown",
   "id": "705528ef",
   "metadata": {},
   "source": [
    "## Analising NaN and Duplicates"
   ]
  },
  {
   "cell_type": "code",
   "execution_count": null,
   "id": "741619df",
   "metadata": {},
   "outputs": [],
   "source": [
    "# Checking NA\n",
    "df.isna().sum()"
   ]
  },
  {
   "cell_type": "code",
   "execution_count": null,
   "id": "dab62ec3",
   "metadata": {},
   "outputs": [],
   "source": [
    "# Checking duplicate rows\n",
    "print(f\"Total duplicate rows: {df.duplicated().sum()}\")"
   ]
  },
  {
   "cell_type": "code",
   "execution_count": null,
   "id": "50f6fd2e",
   "metadata": {},
   "outputs": [],
   "source": [
    "# number of lines int the DataFrame\n",
    "num_linhas = df.shape[0]\n",
    "print(f\"Lines: {num_linhas}\")"
   ]
  },
  {
   "cell_type": "code",
   "execution_count": null,
   "id": "7b35fb8a",
   "metadata": {},
   "outputs": [],
   "source": [
    "# data types\n",
    "df.info()"
   ]
  },
  {
   "cell_type": "markdown",
   "id": "282900f1",
   "metadata": {},
   "source": [
    "# EDA "
   ]
  },
  {
   "cell_type": "code",
   "execution_count": null,
   "id": "596d2e5f",
   "metadata": {},
   "outputs": [],
   "source": [
    "disc_variables = [\"Age\", \"WebsiteVisits\", \"SocialShares\", \"EmailOpens\", \"EmailClicks\", \"PreviousPurchases\"]\n",
    "cont_variables = [\"Income\", \"AdSpend\", \"ClickThroughRate\", \"ConversionRate\", \"PagesPerVisit\", \"TimeOnSite\", \"LoyaltyPoints\"]\n",
    "cat_variables = [\"Gender\", \"CampaignType\", \"AdvertisingPlatform\", \"AdvertisingTool\", \"Conversion\"]"
   ]
  },
  {
   "cell_type": "code",
   "execution_count": null,
   "id": "465f4298",
   "metadata": {},
   "outputs": [],
   "source": [
    "# Data\n",
    "gender_counts = Counter(df[\"Gender\"])\n",
    "labels = gender_counts.keys()\n",
    "sizes = gender_counts.values()\n",
    "\n",
    "# Colors and explode settings\n",
    "colors = ['#ff9999','#66b3ff','#99ff99','#ffcc99']\n",
    "explode = [0.1 if i == max(sizes) else 0 for i in sizes]  # explode the largest slice\n",
    "\n",
    "# Create a pie chart\n",
    "plt.figure(figsize=(8, 6))\n",
    "plt.pie(sizes, \n",
    "        labels=labels, \n",
    "        autopct='%.1f%%', \n",
    "        shadow=True, \n",
    "        startangle=140, \n",
    "        colors=colors, \n",
    "        explode=explode,\n",
    "        wedgeprops={'edgecolor': 'black'})\n",
    "\n",
    "# Add title\n",
    "plt.title('Gender Distribution', fontsize=16, fontweight='bold')\n",
    "\n",
    "# Show plot\n",
    "plt.show()"
   ]
  },
  {
   "cell_type": "code",
   "execution_count": null,
   "id": "158ab70b",
   "metadata": {},
   "outputs": [],
   "source": [
    "# Data\n",
    "CampaignType_counts = Counter(df[\"CampaignType\"])\n",
    "labels = CampaignType_counts.keys()\n",
    "sizes = CampaignType_counts.values()\n",
    "\n",
    "# Colors and explode settings\n",
    "colors = ['#ff9999','#66b3ff','#99ff99','#ffcc99']\n",
    "explode = [0.1 if i == max(sizes) else 0 for i in sizes]  # explode the largest slice\n",
    "\n",
    "# Create a pie chart\n",
    "plt.figure(figsize=(8, 6))\n",
    "plt.pie(sizes, \n",
    "        labels=labels, \n",
    "        autopct='%.1f%%', \n",
    "        shadow=True, \n",
    "        startangle=140, \n",
    "        colors=colors, \n",
    "        explode=explode,\n",
    "        wedgeprops={'edgecolor': 'black'})\n",
    "\n",
    "# Add title\n",
    "plt.title('Campaign Type', fontsize=16, fontweight='bold')\n",
    "\n",
    "# Show plot\n",
    "plt.show()"
   ]
  },
  {
   "cell_type": "code",
   "execution_count": null,
   "id": "d98d06e4",
   "metadata": {},
   "outputs": [],
   "source": [
    "# Data\n",
    "Conversion_counts = Counter(df[\"Conversion\"])\n",
    "labels = Conversion_counts.keys()\n",
    "sizes = Conversion_counts.values()\n",
    "\n",
    "# Colors and explode settings\n",
    "colors = ['#ff9999','#66b3ff','#99ff99','#ffcc99']\n",
    "explode = [0.1 if i == max(sizes) else 0 for i in sizes]  # explode the largest slice\n",
    "\n",
    "# Create a pie chart\n",
    "plt.figure(figsize=(8, 6))\n",
    "plt.pie(sizes, \n",
    "        labels=labels, \n",
    "        autopct='%.1f%%', \n",
    "        shadow=True, \n",
    "        startangle=140, \n",
    "        colors=colors, \n",
    "        explode=explode,\n",
    "        wedgeprops={'edgecolor': 'black'})\n",
    "\n",
    "# Add title\n",
    "plt.title('Conversions', fontsize=16, fontweight='bold')\n",
    "\n",
    "# Show plot\n",
    "plt.show()"
   ]
  },
  {
   "cell_type": "code",
   "execution_count": null,
   "id": "2d8093ef",
   "metadata": {},
   "outputs": [],
   "source": [
    "# Data\n",
    "AdvertisingTool_counts = Counter(df[\"AdvertisingTool\"])\n",
    "labels = AdvertisingTool_counts.keys()\n",
    "sizes = AdvertisingTool_counts.values()\n",
    "\n",
    "# Colors and explode settings\n",
    "colors = ['#ff9999','#66b3ff','#99ff99','#ffcc99']\n",
    "explode = [0.1 if i == max(sizes) else 0 for i in sizes]  # explode the largest slice\n",
    "\n",
    "# Create a pie chart\n",
    "plt.figure(figsize=(8, 6))\n",
    "plt.pie(sizes, \n",
    "        labels=labels, \n",
    "        autopct='%.1f%%', \n",
    "        shadow=True, \n",
    "        startangle=140, \n",
    "        colors=colors, \n",
    "        explode=explode,\n",
    "        wedgeprops={'edgecolor': 'black'})\n",
    "\n",
    "# Add title\n",
    "plt.title('Advertising Tool', fontsize=16, fontweight='bold')\n",
    "\n",
    "# Show plot\n",
    "plt.show()"
   ]
  },
  {
   "cell_type": "code",
   "execution_count": null,
   "id": "fbb046d4",
   "metadata": {},
   "outputs": [],
   "source": [
    "# Data\n",
    "AdvertisingPlatform_counts = Counter(df[\"AdvertisingPlatform\"])\n",
    "labels = AdvertisingPlatform_counts.keys()\n",
    "sizes = AdvertisingPlatform_counts.values()\n",
    "\n",
    "# Colors and explode settings\n",
    "colors = ['#ff9999','#66b3ff','#99ff99','#ffcc99']\n",
    "explode = [0.1 if i == max(sizes) else 0 for i in sizes]  # explode the largest slice\n",
    "\n",
    "# Create a pie chart\n",
    "plt.figure(figsize=(8, 6))\n",
    "plt.pie(sizes, \n",
    "        labels=labels, \n",
    "        autopct='%.1f%%', \n",
    "        shadow=True, \n",
    "        startangle=140, \n",
    "        colors=colors, \n",
    "        explode=explode,\n",
    "        wedgeprops={'edgecolor': 'black'})\n",
    "\n",
    "# Add title\n",
    "plt.title('Advertising Platform', fontsize=16, fontweight='bold')\n",
    "\n",
    "# Show plot\n",
    "plt.show()"
   ]
  },
  {
   "cell_type": "code",
   "execution_count": null,
   "id": "9cb9b4ee",
   "metadata": {
    "scrolled": true
   },
   "outputs": [],
   "source": [
    "# Discrete variables analisys \n",
    "\n",
    "\n",
    "for col in disc_variables:\n",
    "    plt.figure(figsize=(12, 6))\n",
    "    plt.subplot(1, 2, 1)\n",
    "    sns.histplot(df[col], kde=True)\n",
    "    plt.title(f'Histogram of {col}')\n",
    "    plt.xlabel(col)\n",
    "    plt.ylabel('Frequency')\n",
    "    \n",
    "    plt.subplot(1, 2, 2)\n",
    "    sns.boxplot(x=df[col])\n",
    "    plt.title(f'Boxplot of {col}')\n",
    "    plt.xlabel(col)\n",
    "    \n",
    "    plt.show()\n"
   ]
  },
  {
   "cell_type": "code",
   "execution_count": null,
   "id": "841e6674",
   "metadata": {
    "scrolled": true
   },
   "outputs": [],
   "source": [
    "# continuos variables analisys \n",
    "\n",
    "\n",
    "for col in cont_variables:\n",
    "    plt.figure(figsize=(12, 6))\n",
    "    plt.subplot(1, 2, 1)\n",
    "    sns.histplot(df[col], kde=True)\n",
    "    plt.title(f'Histogram of {col}')\n",
    "    plt.xlabel(col)\n",
    "    plt.ylabel('Frequency')\n",
    "    \n",
    "    plt.subplot(1, 2, 2)\n",
    "    sns.boxplot(x=df[col])\n",
    "    plt.title(f'Boxplot of {col}')\n",
    "    plt.xlabel(col)\n",
    "    \n",
    "    plt.show()"
   ]
  },
  {
   "cell_type": "markdown",
   "id": "fa0126fd",
   "metadata": {},
   "source": [
    "<br>\n",
    "<br>\n",
    "<br>\n",
    "By the data analysis, we can see that the features are well distributed and we have a slightly unbalanced dataset for the conversion, our target. <br>\n",
    "<br>\n",
    "<br>\n",
    "We can also see that advertising tool and platform will not bring much to our modeling.\n",
    "<br>\n",
    "<br>\n",
    "<br>\n",
    "\n"
   ]
  },
  {
   "cell_type": "code",
   "execution_count": null,
   "id": "90519ce2",
   "metadata": {},
   "outputs": [],
   "source": [
    "df = df.drop(columns = ['AdvertisingTool', 'AdvertisingPlatform','CustomerID'])"
   ]
  },
  {
   "cell_type": "code",
   "execution_count": null,
   "id": "e1a5a78d",
   "metadata": {
    "scrolled": false
   },
   "outputs": [],
   "source": [
    "plt.figure(figsize=(30, 30))\n",
    "corr = df.corr()\n",
    "\n",
    "# Mask the upper triangle\n",
    "mask = np.triu(np.ones_like(corr, dtype=bool))\n",
    "\n",
    "# Adjust the heatmap to display only the lower triangle\n",
    "sns.heatmap(corr, mask=mask, annot=True, cmap='coolwarm', annot_kws={\"size\": 16}, fmt='.2f')\n",
    "plt.show()"
   ]
  },
  {
   "cell_type": "markdown",
   "id": "51ca44a7",
   "metadata": {},
   "source": [
    "# Data preparation\n",
    "\n",
    "* selection: Do we have all the data selected?\n",
    "* construction: build new variables\n",
    "* integration: in the case of, multiple data sources we need to integrate them\n",
    "* formating: format the data to the correct format."
   ]
  },
  {
   "cell_type": "code",
   "execution_count": null,
   "id": "a66f3033",
   "metadata": {},
   "outputs": [],
   "source": [
    "# Separate features and target\n",
    "X = df.drop('Conversion', axis=1)\n",
    "y = df['Conversion']"
   ]
  },
  {
   "cell_type": "code",
   "execution_count": null,
   "id": "473b4512",
   "metadata": {},
   "outputs": [],
   "source": [
    "# Define preprocessing steps for numerical and categorical features\n",
    "numerical_features = ['Age', 'WebsiteVisits', 'SocialShares', 'EmailOpens', 'EmailClicks', 'PreviousPurchases', \n",
    "                      'Income', 'AdSpend', 'ClickThroughRate', 'ConversionRate', 'PagesPerVisit', 'TimeOnSite', 'LoyaltyPoints']\n",
    "categorical_features = ['Gender', 'CampaignType']\n",
    "\n",
    "# Numerical features: Impute missing values with median and scale to zero mean and unit variance\n",
    "\n",
    "numerical_transformer = Pipeline(steps=[\n",
    "    ('imputer', SimpleImputer(strategy='median')),\n",
    "    ('scaler', StandardScaler())\n",
    "])\n",
    "\n",
    "# Categorical features: Impute missing values with the most frequent value and apply one-hot encoding\n",
    "\n",
    "categorical_transformer = Pipeline(steps=[\n",
    "    ('imputer', SimpleImputer(strategy='most_frequent')),\n",
    "    ('onehot', OneHotEncoder(handle_unknown='ignore'))\n",
    "])\n",
    "\n",
    "# Combine preprocessing steps into a single preprocessor\n",
    "preprocessor = ColumnTransformer(\n",
    "    transformers=[\n",
    "        ('num', numerical_transformer, numerical_features),\n",
    "        ('cat', categorical_transformer, categorical_features)\n",
    "    ])\n",
    "\n",
    "# Fit and transform the data\n",
    "X_preprocessed = preprocessor.fit_transform(X)\n",
    "\n",
    "# Extract column names for the transformed data\n",
    "num_cols = numerical_features\n",
    "cat_cols = preprocessor.named_transformers_['cat'].named_steps['onehot'].get_feature_names_out(categorical_features)\n",
    "all_cols = num_cols + list(cat_cols)\n",
    "\n",
    "# Create a DataFrame with the new column names\n",
    "X_pad = pd.DataFrame(X_preprocessed, columns=all_cols)\n",
    "\n",
    "X_pad.head()"
   ]
  },
  {
   "cell_type": "markdown",
   "id": "92f61838",
   "metadata": {},
   "source": [
    "### We need to search for the best number of cluster for K-mean, we will use 2 methods for this."
   ]
  },
  {
   "cell_type": "code",
   "execution_count": null,
   "id": "0c4939d1",
   "metadata": {},
   "outputs": [],
   "source": [
    "# Determine optimal number of clusters using the elbow method\n",
    "inertia = []\n",
    "for n in range(1, 15):\n",
    "    kmeans = KMeans(n_clusters=n, random_state=42)\n",
    "    kmeans.fit(X_preprocessed)\n",
    "    inertia.append(kmeans.inertia_)\n",
    "\n",
    "# Plot the elbow curve\n",
    "plt.plot(range(1, 15), inertia)\n",
    "plt.xlabel('Number of clusters')\n",
    "plt.ylabel('Inertia')\n",
    "plt.title('Elbow Method')\n",
    "plt.show()\n",
    "\n"
   ]
  },
  {
   "cell_type": "markdown",
   "id": "d07e38ff",
   "metadata": {},
   "source": [
    "### We could not determine a perfect cluster amount by this metodology."
   ]
  },
  {
   "cell_type": "code",
   "execution_count": null,
   "id": "fa924532",
   "metadata": {},
   "outputs": [],
   "source": [
    "# Silhouette Method\n",
    "silhouette_scores = []\n",
    "for n in range(2, 15):\n",
    "    kmeans = KMeans(n_clusters=n, random_state=42)\n",
    "    cluster_labels = kmeans.fit_predict(X_preprocessed)\n",
    "    silhouette_avg = silhouette_score(X_preprocessed, cluster_labels)\n",
    "    silhouette_scores.append(silhouette_avg)\n",
    "\n",
    "# Plot silhouette scores\n",
    "plt.figure(figsize=(8, 6))\n",
    "plt.plot(range(2, 15), silhouette_scores, marker='o')\n",
    "plt.xlabel('Number of clusters')\n",
    "plt.ylabel('Silhouette Score')\n",
    "plt.title('Silhouette Method')\n",
    "plt.grid(True)\n",
    "plt.show()"
   ]
  },
  {
   "cell_type": "markdown",
   "id": "82b5c99b",
   "metadata": {},
   "source": [
    "### With this one we can use 2 clusters os 14 or more, 14 clusters are too much for such analysis, so we will try to use 2 then."
   ]
  },
  {
   "cell_type": "markdown",
   "id": "75419290",
   "metadata": {},
   "source": [
    "# Modeling K mean"
   ]
  },
  {
   "cell_type": "code",
   "execution_count": null,
   "id": "75a93cb5",
   "metadata": {},
   "outputs": [],
   "source": [
    "# Fit K-Means with the optimal number of clusters\n",
    "optimal_clusters = 2  # Example: determine from the elbow plot\n",
    "kmeans = KMeans(n_clusters=optimal_clusters, random_state=42)\n",
    "clusters = kmeans.fit_predict(X_preprocessed)\n",
    "\n",
    "# Add cluster labels to the original dataframe\n",
    "df['Cluster'] = clusters"
   ]
  },
  {
   "cell_type": "code",
   "execution_count": null,
   "id": "de692df1",
   "metadata": {},
   "outputs": [],
   "source": [
    "# Perform PCA\n",
    "pca = PCA(n_components=2)\n",
    "X_pad_t = pca.fit_transform(X_pad)"
   ]
  },
  {
   "cell_type": "code",
   "execution_count": null,
   "id": "bf8a688f",
   "metadata": {},
   "outputs": [],
   "source": [
    "df_pca = pd.DataFrame(data=X_pad_t, columns=['PC1', 'PC2'])\n",
    "df_pca['Cluster'] = clusters"
   ]
  },
  {
   "cell_type": "code",
   "execution_count": null,
   "id": "d5fd4c44",
   "metadata": {},
   "outputs": [],
   "source": [
    "def biplot(score,coeff, y, labels=None):\n",
    "    xs = score[:,0]\n",
    "    ys = score[:,1]\n",
    "    n = coeff.shape[0]\n",
    "    scalex = 2/(xs.max() - xs.min())\n",
    "    scaley = 2/(ys.max() - ys.min())\n",
    "    \n",
    "    fig, ax = plt.subplots(figsize=(10, 10))\n",
    "#    scatter = ax.scatter(xs * scalex,ys * scaley, c = y)\n",
    "    sns.kdeplot(x = xs * scalex, y = ys * scaley, hue=y, ax=ax, fill=True, alpha=.6, palette='viridis')\n",
    "#    ax.legend(*scatter.legend_elements())\n",
    "    \n",
    "    for i in range(n):\n",
    "        ax.arrow(0, 0, coeff[i,0], coeff[i,1],color = 'r',alpha = 0.5, \n",
    "                 length_includes_head=True, head_width=0.04, head_length=0.04)\n",
    "        if labels is None:\n",
    "            ax.text(coeff[i,0]* 1.15, coeff[i,1] * 1.15, \"Var\"+str(i+1), color = 'k', ha = 'center', va = 'center')\n",
    "        else:\n",
    "            ax.text(coeff[i,0]* 1.15, coeff[i,1] * 1.15, labels[i], color = 'k', ha = 'center', va = 'center')\n",
    "    ax.set_xlim(-1.2,1.2)\n",
    "    ax.set_ylim(-1.2,1.2)\n",
    "    ax.set_xlabel(\"PC{0}, {1:.1%} explained variace ratio\".format(1, pca.explained_variance_ratio_[0]))\n",
    "    ax.set_ylabel(\"PC{0}, {1:.1%} explained variace\".format(1, pca.explained_variance_ratio_[1]))\n",
    "    ax.grid()\n"
   ]
  },
  {
   "cell_type": "code",
   "execution_count": null,
   "id": "077f7b16",
   "metadata": {
    "scrolled": false
   },
   "outputs": [],
   "source": [
    "# Plot the biplot\n",
    "biplot(X_pad_t, np.transpose(pca.components_),df_pca['Cluster'], labels=X_pad.columns)"
   ]
  },
  {
   "cell_type": "markdown",
   "id": "b1c3c6c0",
   "metadata": {},
   "source": [
    "### Feature Importance:\n",
    "\n",
    " - Email Clicks, Conversion Rate, Income, Pages Per Visit, and TimeOnSite are crucial for PC1. Customers with higher values in these features are likely contributing to higher engagement and conversion metrics.\n",
    " \n",
    " \n",
    "- Previous Purchases, Website Visits, and Loyalty Points are important for distinguishing customers in Cluster 0, suggesting these features are key differentiators for this group.\n",
    "\n",
    "### Cluster-Specific Analysis:\n",
    "\n",
    "Cluster 0:\n",
    "- Higher Previous Purchases and Website Visits indicate these customers have engaged more with the product historically.\n",
    "- High Loyalty Points suggest a potential focus on loyalty programs and rewards.\n",
    "- The absence of a high Conversion Rate in this cluster might indicate that these customers are not frequent purchasers, potentially due to the product being a high-value item or requiring a longer decision-making process.\n",
    "\n",
    "Cluster 1:\n",
    "- Higher values in Email Clicks, Conversion Rate, Income, Pages Per Visit, and TimeOnSite suggest this cluster consists of more actively engaged customers with a higher likelihood of conversion.\n",
    "\n",
    "### Marketing Strategy:\n",
    "\n",
    "* Focus on Cluster 0:\n",
    "\n",
    "Objective: Increase conversion rates by leveraging existing engagement metrics.\n",
    "\n",
    "Tactics:\n",
    "\n",
    "- Targeted Campaigns: Design personalized marketing campaigns aimed at converting high website visitors and those with high loyalty points. Emphasize exclusive offers or loyalty point redemptions to drive purchases.\n",
    "- Engagement Strategies: Use email marketing and reminders for customers with high email open and click rates to encourage conversions.\n",
    "- Behavioral Analysis: Conduct deeper behavioral analysis to understand why customers in this cluster, despite high engagement metrics, are not converting. This could involve surveys, focus groups, or further segmentation.\n",
    "\n",
    "* Utilize Insights from Cluster 1:\n",
    "\n",
    "- Objective: Maintain and enhance engagement.\n",
    "\n",
    "Tactics:\n",
    "\n",
    "- Reward High Converters: Implement loyalty programs or rewards for frequent purchasers to maintain high engagement levels.\n",
    "- Upsell/Cross-sell: Use the high engagement metrics to introduce related products or services, leveraging the high income and time spent on the site."
   ]
  },
  {
   "cell_type": "markdown",
   "id": "ec1ebea7",
   "metadata": {},
   "source": [
    "# XGboost - Modeling if the  campaign will convert or not"
   ]
  },
  {
   "cell_type": "markdown",
   "id": "09cb2b16",
   "metadata": {},
   "source": [
    "XGBoost is an ensemble technique that combines several decision trees to produce better predictive performance than a single decision tree. The principle is that multiple weak learners can collectively yield better results than one strong learner.\n",
    "\n",
    "As its name suggests, XGBoost is a boosting technique that iteratively minimizes the error of the previous model. By applying a gradient at each step, it reduces errors and helps prevent overfitting.\n",
    "\n",
    "What makes this technique so popular is its speed, especially when dealing with datasets containing thousands of features and possible splits. XGBoost improves efficiency by analyzing the distribution of features across all data points in a leaf, thus reducing the search space for potential feature splits.\n",
    "\n",
    "Additionally, XGBoost's ability to handle missing values and its regularization techniques contribute to its robustness and effectiveness in a wide range of applications."
   ]
  },
  {
   "cell_type": "code",
   "execution_count": null,
   "id": "24d6fe49",
   "metadata": {},
   "outputs": [],
   "source": [
    "# To avoid data leakage we will Split the data into training and testing sets before re applaying the processor\n",
    "X_train, X_test, y_train, y_test = train_test_split(X, y, test_size=0.2, random_state=42)\n",
    "\n",
    "# Apply preprocessing\n",
    "X_train_preprocessed = preprocessor.fit_transform(X_train)\n",
    "X_test_preprocessed = preprocessor.transform(X_test)"
   ]
  },
  {
   "cell_type": "code",
   "execution_count": null,
   "id": "3130548c",
   "metadata": {},
   "outputs": [],
   "source": [
    "\n",
    "# Train XGBoost classifier\n",
    "model = xgb.XGBClassifier(random_state=42, n_estimators = 350)\n",
    "model.fit(X_train_preprocessed, y_train)\n",
    "\n",
    "# Make predictions\n",
    "y_pred = model.predict(X_test_preprocessed)\n",
    "\n",
    "# Evaluate model\n",
    "print('Accuracy:', accuracy_score(y_test, y_pred))\n",
    "print(classification_report(y_test, y_pred))\n",
    "\n",
    "# Feature importance\n",
    "importances = model.feature_importances_\n",
    "feature_names = preprocessor.get_feature_names_out()\n",
    "feature_importances = pd.Series(importances, index=feature_names).sort_values(ascending=False)\n",
    "print(feature_importances)"
   ]
  },
  {
   "cell_type": "code",
   "execution_count": null,
   "id": "bae1ca4e",
   "metadata": {},
   "outputs": [],
   "source": [
    "# Confusion matrix\n",
    "conf_matrix = confusion_matrix(y_test, y_pred)\n",
    "conf_matrix_df = pd.DataFrame(conf_matrix, index=model.classes_, columns=model.classes_)\n",
    "\n",
    "# Plot confusion matrix\n",
    "plt.figure(figsize=(10, 7))\n",
    "sns.heatmap(conf_matrix_df, annot=True, fmt='d', cmap='Blues')\n",
    "plt.title('Confusion Matrix')\n",
    "plt.xlabel('Predicted')\n",
    "plt.ylabel('Actual')\n",
    "plt.show()"
   ]
  },
  {
   "cell_type": "markdown",
   "id": "fc883ac6",
   "metadata": {},
   "source": [
    "# Model evaluation\n",
    "\n",
    "The XGBoost model demonstrates strong performance in predicting whether a customer will respond to a campaign, with an overall accuracy of **91.81%**. Key performance metrics include:\n",
    "\n",
    "- Precision: 0.78 for non-responders (class 0) and 0.93 for responders (class 1).\n",
    "- Recall: 0.45 for non-responders and 0.98 for responders.\n",
    "- F1-Score: 0.57 for non-responders and 0.95 for responders.\n",
    "This indicates that the model is particularly effective at **identifying responders, with high precision and recall rates.\n",
    "\n",
    "**Conclusion Based on Model Predictions:<br>\n",
    "The model can accurately predict if a customer will respond to a campaign. Before launching a new campaign, we can use the model to predict the likely response of target customers, enabling us to anticipate the campaign's performance and make data-driven decisions to optimize marketing efforts.**"
   ]
  },
  {
   "cell_type": "markdown",
   "id": "00c334e1",
   "metadata": {},
   "source": [
    "## Feature Importance Analysis\n",
    "\n",
    "The feature importance values from the XGBoost model provide additional insights into which factors most influence the prediction of customer responses. Key observations include:\n",
    "\n",
    "Top Influential Features:\n",
    "\n",
    "- Campaign Type - Conversion: The type of campaign focused on conversion has the highest importance score, indicating that the nature of the campaign itself plays a critical role in predicting customer response.\n",
    "- Previous Purchases: Customers' historical purchase behavior is a strong predictor of future responses.\n",
    "- Email Clicks and Opens: Email engagement metrics are also highly influential, showing the importance of customer interaction with email marketing efforts.\n",
    "\n",
    "Other Notable Features:\n",
    "\n",
    "- Click Through Rate and Pages Per Visit: These engagement metrics indicate that higher interaction with digital content correlates with higher campaign response rates.\n",
    "- Ad Spend: Investment in advertising impacts customer response, suggesting that higher ad spend can lead to higher engagement.\n",
    "- Time on Site: The amount of time customers spend on the website is also a significant predictor, reflecting their level of interest and engagement.\n",
    "\n",
    "Demographic and Other Factors:\n",
    "\n",
    "- Income and Age: Demographic factors like income and age, although not the top predictors, still play a role in customer response.\n",
    "- Gender: Gender appears to have minimal importance in this model, suggesting that other factors are more influential in determining campaign response."
   ]
  }
 ],
 "metadata": {
  "kernelspec": {
   "display_name": "Python 3 (ipykernel)",
   "language": "python",
   "name": "python3"
  },
  "language_info": {
   "codemirror_mode": {
    "name": "ipython",
    "version": 3
   },
   "file_extension": ".py",
   "mimetype": "text/x-python",
   "name": "python",
   "nbconvert_exporter": "python",
   "pygments_lexer": "ipython3",
   "version": "3.9.19"
  }
 },
 "nbformat": 4,
 "nbformat_minor": 5
}
